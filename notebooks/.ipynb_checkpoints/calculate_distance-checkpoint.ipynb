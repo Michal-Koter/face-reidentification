{
 "cells": [
  {
   "metadata": {},
   "cell_type": "raw",
   "source": [
    "##%% md\n",
    " Calculate Vectors Distance "
   ],
   "id": "1b77536785a7ff02"
  },
  {
   "cell_type": "code",
   "id": "initial_id",
   "metadata": {
    "collapsed": true,
    "jupyter": {
     "is_executing": true
    }
   },
   "source": [
    "import dataset\n",
    "import pretrained_encoders\n",
    "import distance\n",
    "import lightning as l"
   ],
   "outputs": [],
   "execution_count": null
  },
  {
   "metadata": {},
   "cell_type": "code",
   "outputs": [],
   "execution_count": null,
   "source": [
    "dm = dataset.FaceDatamodule()\n",
    "dm.setup()"
   ],
   "id": "3b2983195e6e62f1"
  },
  {
   "metadata": {},
   "cell_type": "code",
   "outputs": [],
   "execution_count": null,
   "source": "myEncoder = pretrained_encoders.Encoder(\"vgg\")\n",
   "id": "b1f75181f2ff4185"
  },
  {
   "metadata": {},
   "cell_type": "code",
   "outputs": [],
   "execution_count": null,
   "source": "trainer = l.Trainer()\n",
   "id": "41515e2b30bf5457"
  },
  {
   "metadata": {},
   "cell_type": "code",
   "outputs": [],
   "execution_count": null,
   "source": "encoded = trainer.predict(myEncoder, dm)",
   "id": "94dc8e55843c6624"
  },
  {
   "metadata": {},
   "cell_type": "code",
   "outputs": [],
   "execution_count": null,
   "source": [
    "positive_true = 0\n",
    "negative_true = 0\n",
    "positive_false = 0\n",
    "negative_false = 0\n",
    "\n",
    "for batch in encoded:\n",
    "    for img1, img2, label in zip(batch[0], batch[1], batch[2]):\n",
    "        #TODO: calculate distance and compare with label\n",
    "        d = distance.cosine_distance(img1, img2)\n",
    "\n",
    "        if label == 1:\n",
    "            if d < 0.25:\n",
    "                positive_true += 1\n",
    "            else:\n",
    "                negative_true += 1\n",
    "        if label == 0:\n",
    "            if d < 0.25:\n",
    "                negative_false += 1\n",
    "            else:\n",
    "                positive_false += 1\n",
    "\n",
    "print(positive_true, negative_true, positive_false, negative_false)"
   ],
   "id": "39e16ab8ebee62b1"
  }
 ],
 "metadata": {
  "kernelspec": {
   "display_name": "Python 3",
   "language": "python",
   "name": "python3"
  },
  "language_info": {
   "codemirror_mode": {
    "name": "ipython",
    "version": 2
   },
   "file_extension": ".py",
   "mimetype": "text/x-python",
   "name": "python",
   "nbconvert_exporter": "python",
   "pygments_lexer": "ipython2",
   "version": "2.7.6"
  }
 },
 "nbformat": 4,
 "nbformat_minor": 5
}
